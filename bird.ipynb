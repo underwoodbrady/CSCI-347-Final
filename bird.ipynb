{
 "cells": [
  {
   "cell_type": "code",
   "execution_count": 13,
   "metadata": {
    "collapsed": true
   },
   "outputs": [],
   "source": [
    "### Imports\n",
    "import numpy as np\n",
    "import matplotlib.pyplot as plt\n",
    "from sklearn.preprocessing import StandardScaler\n",
    "import pandas as pd\n",
    "from sklearn.decomposition import PCA\n",
    "from sklearn.cluster import DBSCAN\n",
    "from sklearn.cluster import KMeans\n",
    "from sklearn.model_selection import train_test_split\n",
    "from sklearn.naive_bayes import GaussianNB"
   ]
  },
  {
   "cell_type": "markdown",
   "source": [
    "# Naive Bayes"
   ],
   "metadata": {
    "collapsed": false
   }
  },
  {
   "cell_type": "code",
   "execution_count": 14,
   "outputs": [
    {
     "name": "stdout",
     "output_type": "stream",
     "text": [
      "Number of mislabeled points out of a total 54 points : 5\n",
      "Accuracy:  0.9074074074074074\n"
     ]
    }
   ],
   "source": [
    "data = open(\"./Data/heart.csv\")\n",
    "arr = np.genfromtxt(data, delimiter=',')\n",
    "dataframe = pd.DataFrame(arr)\n",
    "Y = dataframe[13]\n",
    "X = dataframe.iloc[:, 0:13]\n",
    "# print(X)\n",
    "# print(\"================================\")\n",
    "# print(Y)\n",
    "\n",
    "X_train, X_test, y_train, y_test = train_test_split(X, Y, test_size=0.2, random_state=42)\n",
    "\n",
    "gnb = GaussianNB()\n",
    "y_pred = gnb.fit(X_train, y_train).predict(X_test)\n",
    "totalPoints = X_test.shape[0]\n",
    "misPoints = (y_test != y_pred).sum()\n",
    "print(\"Number of mislabeled points out of a total %d points : %d\" % (X_test.shape[0], (y_test != y_pred).sum()))\n",
    "print(\"Accuracy: \", (totalPoints-misPoints)/ totalPoints)"
   ],
   "metadata": {
    "collapsed": false
   }
  },
  {
   "cell_type": "markdown",
   "source": [
    "# Logistic Regression"
   ],
   "metadata": {
    "collapsed": false
   }
  },
  {
   "cell_type": "code",
   "execution_count": 15,
   "outputs": [
    {
     "name": "stdout",
     "output_type": "stream",
     "text": [
      "Accuracy: 0.9074074074074074\n"
     ]
    }
   ],
   "source": [
    "from sklearn.metrics import accuracy_score\n",
    "from sklearn.linear_model import LogisticRegression\n",
    "\n",
    "data = open(\"./Data/heart.csv\")\n",
    "arr = np.genfromtxt(data, delimiter=',')\n",
    "dataframe = pd.DataFrame(arr)\n",
    "Y = dataframe[13]\n",
    "X = dataframe.iloc[:, 0:13]\n",
    "X_train, X_test, y_train, y_test = train_test_split(X, Y, test_size=0.2, random_state=42)\n",
    "logreg = LogisticRegression(max_iter=1000)\n",
    "logreg.fit(X_train, y_train)\n",
    "y_pred = logreg.predict(X_test)\n",
    "accuracy = accuracy_score(y_test, y_pred)\n",
    "print('Accuracy:', accuracy)"
   ],
   "metadata": {
    "collapsed": false
   }
  },
  {
   "cell_type": "markdown",
   "source": [
    "Naive Bayes Just using columns 1,4,5,8,10,12 (non-categorical numeric values)\n",
    "Predicting column 13:"
   ],
   "metadata": {
    "collapsed": false
   }
  },
  {
   "cell_type": "code",
   "execution_count": 16,
   "outputs": [
    {
     "name": "stdout",
     "output_type": "stream",
     "text": [
      "     1.0  322.0  0.0  0.0.1  2.0.1  3.0.1\n",
      "0    0.0  564.0  0.0    0.0    2.0    7.0\n",
      "1    1.0  261.0  0.0    0.0    1.0    7.0\n",
      "2    1.0  263.0  0.0    1.0    2.0    7.0\n",
      "3    0.0  269.0  0.0    1.0    1.0    3.0\n",
      "4    1.0  177.0  0.0    0.0    1.0    7.0\n",
      "..   ...    ...  ...    ...    ...    ...\n",
      "264  1.0  199.0  1.0    0.0    1.0    7.0\n",
      "265  1.0  263.0  0.0    0.0    1.0    7.0\n",
      "266  0.0  294.0  0.0    0.0    2.0    3.0\n",
      "267  1.0  192.0  0.0    0.0    2.0    6.0\n",
      "268  1.0  286.0  0.0    1.0    2.0    3.0\n",
      "\n",
      "[269 rows x 6 columns]\n",
      "0      2.0\n",
      "1      1.0\n",
      "2      2.0\n",
      "3      1.0\n",
      "4      1.0\n",
      "      ... \n",
      "265    1.0\n",
      "266    1.0\n",
      "267    1.0\n",
      "268    1.0\n",
      "269    2.0\n",
      "Name: 13, Length: 270, dtype: float64\n",
      "0.7222222222222222\n"
     ]
    }
   ],
   "source": [
    "import numpy as np\n",
    "import pandas as pd\n",
    "from sklearn.model_selection import train_test_split\n",
    "from sklearn.naive_bayes import GaussianNB\n",
    "\n",
    "def naive_bayes(dataset, column_indices):\n",
    "    df = pd.read_csv(dataset)\n",
    "\n",
    "    # Select the columns to be used for comparison\n",
    "    X = df.iloc[:, column_indices]\n",
    "\n",
    "    # Select the target variable\n",
    "    y = df.iloc[:, -1]\n",
    "\n",
    "    print(X)\n",
    "    print(Y)\n",
    "\n",
    "    # Split the data into training and test sets\n",
    "    X_train, X_test, y_train, y_test = train_test_split(X, y, test_size=0.2, random_state=42)\n",
    "\n",
    "    # Fit the Naive Bayes model on the training data\n",
    "    model = GaussianNB()\n",
    "    model.fit(X_train, y_train)\n",
    "\n",
    "    # Make predictions on the test data\n",
    "    y_pred = model.predict(X_test)\n",
    "\n",
    "    # Calculate the accuracy of the model\n",
    "    accuracy = np.mean(y_pred == y_test)\n",
    "\n",
    "    return accuracy\n",
    "columns = [1,4,5,8,10,12]\n",
    "print(naive_bayes(\"./Data/heart.csv\",columns))"
   ],
   "metadata": {
    "collapsed": false
   }
  },
  {
   "cell_type": "code",
   "execution_count": 12,
   "outputs": [],
   "source": [],
   "metadata": {
    "collapsed": false
   }
  }
 ],
 "metadata": {
  "kernelspec": {
   "display_name": "Python 3",
   "language": "python",
   "name": "python3"
  },
  "language_info": {
   "codemirror_mode": {
    "name": "ipython",
    "version": 2
   },
   "file_extension": ".py",
   "mimetype": "text/x-python",
   "name": "python",
   "nbconvert_exporter": "python",
   "pygments_lexer": "ipython2",
   "version": "2.7.6"
  }
 },
 "nbformat": 4,
 "nbformat_minor": 0
}
