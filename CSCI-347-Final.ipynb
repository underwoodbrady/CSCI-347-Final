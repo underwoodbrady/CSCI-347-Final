{
 "cells": [
  {
   "cell_type": "markdown",
   "source": [
    " <h1 style=\"text-align: center;\">CSCI 347 Final Report</h1>\n",
    "<p style=\"text-align: center;\">Performed by: Simeon Shirshov, Jack Brown, Brady Ash, Brady Underwood, Andrew Cilker</p>"
   ],
   "metadata": {
    "collapsed": false
   }
  },
  {
   "cell_type": "code",
   "execution_count": null,
   "metadata": {
    "collapsed": true
   },
   "outputs": [],
   "source": []
  }
 ],
 "metadata": {
  "kernelspec": {
   "display_name": "Python 3",
   "language": "python",
   "name": "python3"
  },
  "language_info": {
   "codemirror_mode": {
    "name": "ipython",
    "version": 2
   },
   "file_extension": ".py",
   "mimetype": "text/x-python",
   "name": "python",
   "nbconvert_exporter": "python",
   "pygments_lexer": "ipython2",
   "version": "2.7.6"
  }
 },
 "nbformat": 4,
 "nbformat_minor": 0
}
